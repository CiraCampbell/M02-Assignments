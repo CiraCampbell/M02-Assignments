{
 "cells": [
  {
   "cell_type": "code",
   "execution_count": 2,
   "id": "4f5d7a44-c4cd-474f-8f02-18d2c013a346",
   "metadata": {},
   "outputs": [
    {
     "name": "stdout",
     "output_type": "stream",
     "text": [
      "Guess value is =  6\n",
      "Secret value is =  3\n",
      "too high!\n"
     ]
    }
   ],
   "source": [
    "# Question 4.1\n",
    "import random\n",
    "\n",
    "secret = random.randint(1,10)\n",
    "guess = random.randint(1,10)\n",
    "\n",
    "print(\"Guess value is = \", guess)\n",
    "print(\"Secret value is = \", secret)\n",
    "\n",
    "if guess < secret:\n",
    "    print(\"too low!\")\n",
    "\n",
    "elif guess > secret:\n",
    "    print(\"too high!\")\n",
    "    \n",
    "else:\n",
    "    print(\"just right!\")"
   ]
  },
  {
   "cell_type": "code",
   "execution_count": 5,
   "id": "c39f0308-20e6-409a-bd78-00418add07ac",
   "metadata": {},
   "outputs": [
    {
     "name": "stdout",
     "output_type": "stream",
     "text": [
      "cherry\n"
     ]
    }
   ],
   "source": [
    "# Question 4.2\n",
    "small = True\n",
    "green = False\n",
    "if small:\n",
    "    if green:\n",
    "        print(\"pea\")\n",
    "    else:\n",
    "        print(\"cherry\")\n",
    "else:\n",
    "    if green:\n",
    "        print(\"watermelon\")\n",
    "    else:\n",
    "        print(\"pumpkin\")"
   ]
  },
  {
   "cell_type": "code",
   "execution_count": 7,
   "id": "76c82235-6b50-433b-9a60-ac86c12c02c5",
   "metadata": {},
   "outputs": [
    {
     "name": "stdout",
     "output_type": "stream",
     "text": [
      "3\n",
      "2\n",
      "1\n",
      "0\n"
     ]
    }
   ],
   "source": [
    "# Question 6.1 \n",
    "list=[3,2,1,0]\n",
    "for x in list:\n",
    "    print(x)"
   ]
  },
  {
   "cell_type": "code",
   "execution_count": 15,
   "id": "7fa70eae-1548-4ba8-bad5-dae50aff65ef",
   "metadata": {},
   "outputs": [
    {
     "name": "stdout",
     "output_type": "stream",
     "text": [
      "too low\n",
      "too low\n",
      "too low\n",
      "too low\n",
      "too low\n",
      "too low\n",
      "found it!\n"
     ]
    }
   ],
   "source": [
    "# Question 6.2\n",
    "guess_me = 7\n",
    "number = 1\n",
    "\n",
    "while True:\n",
    "    if number < guess_me:\n",
    "        print('too low')\n",
    "    elif number == guess_me:\n",
    "        print('found it!')\n",
    "        break\n",
    "    else:\n",
    "        print('oops')\n",
    "        break\n",
    "    number += 1"
   ]
  },
  {
   "cell_type": "code",
   "execution_count": 16,
   "id": "36dcae2d-9341-427e-acb5-c8e10b549587",
   "metadata": {},
   "outputs": [
    {
     "name": "stdout",
     "output_type": "stream",
     "text": [
      "too low\n",
      "too low\n",
      "too low\n",
      "too low\n",
      "found it!\n"
     ]
    }
   ],
   "source": [
    "# Question 6.3\n",
    "guess_me = 5\n",
    "number = [10]\n",
    "\n",
    "for number in range(1,10):\n",
    "    if number < guess_me:\n",
    "        print(\"too low\")\n",
    "        number += 1\n",
    "    elif number == guess_me:\n",
    "        print(\"found it!\")\n",
    "        break\n",
    "    else:\n",
    "        print(\"oops\")\n",
    "        exit"
   ]
  },
  {
   "cell_type": "code",
   "execution_count": null,
   "id": "9c3be16f-11cb-43f8-8bdf-92c7c5931a7e",
   "metadata": {},
   "outputs": [],
   "source": []
  }
 ],
 "metadata": {
  "kernelspec": {
   "display_name": "anaconda-panel-2023.05-py310",
   "language": "python",
   "name": "conda-env-anaconda-panel-2023.05-py310-py"
  },
  "language_info": {
   "codemirror_mode": {
    "name": "ipython",
    "version": 3
   },
   "file_extension": ".py",
   "mimetype": "text/x-python",
   "name": "python",
   "nbconvert_exporter": "python",
   "pygments_lexer": "ipython3",
   "version": "3.11.3"
  }
 },
 "nbformat": 4,
 "nbformat_minor": 5
}
